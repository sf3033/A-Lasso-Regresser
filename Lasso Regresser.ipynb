{
 "cells": [
  {
   "cell_type": "markdown",
   "metadata": {},
   "source": [
    "# A Lasso Regresser\n",
    "## Author: Sikai Feng "
   ]
  },
  {
   "cell_type": "code",
   "execution_count": 168,
   "metadata": {},
   "outputs": [],
   "source": [
    "import numpy as np\n",
    "import pandas as pd\n",
    "import matplotlib.pyplot as plt"
   ]
  },
  {
   "cell_type": "code",
   "execution_count": 169,
   "metadata": {},
   "outputs": [],
   "source": [
    "#Generating data set\n",
    "a=np.random.normal(0,1,2000)\n",
    "b=np.random.normal(0,1,2000)\n",
    "c=np.random.normal(0,1,2000)\n",
    "d=np.random.normal(0,1,2000)\n",
    "x=np.transpose(np.matrix([a,b,c]))\n",
    "y=np.transpose(np.matrix(3*a-17*b+5*c+d))"
   ]
  },
  {
   "cell_type": "code",
   "execution_count": 170,
   "metadata": {},
   "outputs": [],
   "source": [
    "#Lemma7.1 SoftThreshold\n",
    "def soft_threshold(beta,gamma):\n",
    "    return np.sign(beta)*max(0,np.abs(beta)-gamma)"
   ]
  },
  {
   "cell_type": "code",
   "execution_count": 171,
   "metadata": {},
   "outputs": [],
   "source": [
    "#Here we implement lemma7.2,7.4,7.5,7.6 temp is precomputations matrix\n",
    "def lasso(beta0,beta,x,y,lamb):\n",
    "    nvar=len(beta)\n",
    "    beta=np.matrix(beta)\n",
    "    temp=x.T*x\n",
    "    obs=np.shape(x)[0]\n",
    "    np.fill_diagonal((temp),0)\n",
    "    for j in range(nvar):\n",
    "        zx=y.T*x[:,j]-beta0*x[:,j].sum()-(temp*beta.T)[j]#lemma7.5\n",
    "        beta_=zx/np.diag(x.T*x)[j]#lemma7.4\n",
    "        gamma=obs*lamb/np.diag(x.T*x)[j]#lemma7.4\n",
    "        beta_star=soft_threshold(beta_,gamma)#lemma7.2\n",
    "        beta[0,j]=beta_star\n",
    "    beta0=y.mean()-x.mean(axis=0)*beta.T#lemma7.2\n",
    "    return np.column_stack((beta0,beta))    "
   ]
  },
  {
   "cell_type": "code",
   "execution_count": 172,
   "metadata": {},
   "outputs": [],
   "source": [
    "#seting initial beta value and iteration number, creating lamda list to run lasso for different lambda\n",
    "beta0=0.3\n",
    "beta=[1.2,1.2,1.2]\n",
    "iteration=100\n",
    "beta_=[]\n",
    "lamda_=np.linspace(30,0,40)\n",
    "for lamb in lamda_:\n",
    "    newb=lasso(beta0,beta,x,y,lamb)\n",
    "    for i in range(iteration):\n",
    "        newb=lasso(newb[0,0],newb[0,1:],x,y,lamb)\n",
    "    beta_.append(newb.tolist()[0])\n",
    "        "
   ]
  },
  {
   "cell_type": "code",
   "execution_count": 173,
   "metadata": {},
   "outputs": [
    {
     "data": {
      "text/plain": [
       "[[-0.6491435093879515, 0.0, -0.0, 0.0],\n",
       " [-0.6491435093879515, 0.0, -0.0, 0.0],\n",
       " [-0.6491435093879515, 0.0, -0.0, 0.0],\n",
       " [-0.6491435093879515, 0.0, -0.0, 0.0],\n",
       " [-0.6491435093879515, 0.0, -0.0, 0.0],\n",
       " [-0.6491435093879515, 0.0, -0.0, 0.0],\n",
       " [-0.6491435093879515, 0.0, -0.0, 0.0],\n",
       " [-0.6491435093879515, 0.0, -0.0, 0.0],\n",
       " [-0.6491435093879515, 0.0, -0.0, 0.0],\n",
       " [-0.6491435093879515, 0.0, -0.0, 0.0],\n",
       " [-0.6491435093879515, 0.0, -0.0, 0.0],\n",
       " [-0.6491435093879515, 0.0, -0.0, 0.0],\n",
       " [-0.6491435093879515, 0.0, -0.0, 0.0],\n",
       " [-0.6491435093879515, 0.0, -0.0, 0.0],\n",
       " [-0.6491435093879515, 0.0, -0.0, 0.0],\n",
       " [-0.6491435093879515, 0.0, -0.0, 0.0],\n",
       " [-0.6491435093879515, 0.0, -0.0, 0.0],\n",
       " [-0.6491435093879515, 0.0, -0.0, 0.0],\n",
       " [-0.6376955561276978, 0.0, -0.33336148767527973, 0.0],\n",
       " [-0.6107415157684776, 0.0, -1.1182562884084177, 0.0],\n",
       " [-0.5837874754092577, 0.0, -1.9031510891415504, 0.0],\n",
       " [-0.5568334350500377, 0.0, -2.688045889874685, 0.0],\n",
       " [-0.5298793946908176, 0.0, -3.472940690607823, 0.0],\n",
       " [-0.5029253543315975, 0.0, -4.257835491340959, 0.0],\n",
       " [-0.47597131397237746, 0.0, -5.0427302920740935, 0.0],\n",
       " [-0.4490172736131573, 0.0, -5.8276250928072315, 0.0],\n",
       " [-0.42206323325393735, 0.0, -6.612519893540364, 0.0],\n",
       " [-0.39510919289471735, 0.0, -7.397414694273499, 0.0],\n",
       " [-0.3681551525354972, 0.0, -8.182309495006637, 0.0],\n",
       " [-0.34120111217627713, 0.0, -8.967204295739773, 0.0],\n",
       " [-0.31424707181705724, 0.0, -9.752099096472904, 0.0],\n",
       " [-0.28729303145783713, 0.0, -10.536993897206042, 0.0],\n",
       " [-0.260338991098617, 0.0, -11.321888697939178, 0.0],\n",
       " [-0.22722753258286632, 0.0, -12.106783498672314, 0.21219122091244902],\n",
       " [-0.17750803779684365, 0.0, -12.89167829940545, 0.9967131498521864],\n",
       " [-0.1277885430108212, 0.0, -13.676573100138583, 1.781235078791918],\n",
       " [-0.09878789809098487,\n",
       "  0.5767956503995144,\n",
       "  -14.465921550429064,\n",
       "  2.5714207887526075],\n",
       " [-0.07718397035424773,\n",
       "  1.3775185912575385,\n",
       "  -15.266078910990302,\n",
       "  3.3753523716340537],\n",
       " [-0.05558004261751026,\n",
       "  2.178241532115562,\n",
       "  -16.066236271551546,\n",
       "  4.179283954515498],\n",
       " [-0.03397611488077312,\n",
       "  2.978964472973583,\n",
       "  -16.866393632112782,\n",
       "  4.983215537396939]]"
      ]
     },
     "execution_count": 173,
     "metadata": {},
     "output_type": "execute_result"
    }
   ],
   "source": [
    "#check beta change for different penalty value\n",
    "beta_"
   ]
  },
  {
   "cell_type": "code",
   "execution_count": 174,
   "metadata": {},
   "outputs": [],
   "source": [
    "df=pd.DataFrame(beta_,columns=['beta0','x1','x2','x3'])\n",
    "df['lambda']=lamda_\n",
    "df=df.set_index('lambda') "
   ]
  },
  {
   "cell_type": "code",
   "execution_count": 175,
   "metadata": {},
   "outputs": [
    {
     "data": {
      "image/png": "[encoded data removed]",
      "text/plain": [
       "<Figure size 432x288 with 1 Axes>"
      ]
     },
     "metadata": {},
     "output_type": "display_data"
    }
   ],
   "source": [
    "#showing relationship between lambda and beta\n",
    "df.plot()\n",
    "plt.gca().invert_xaxis() \n",
    "plt.show()"
   ]
  },
  {
   "cell_type": "markdown",
   "metadata": {},
   "source": [
    "As we can see from above figure, when the lambda is large, it gives too big penalty for any coeffient different from 0, so we can see beta are all 0. when lambda decreases, the value of lambda gradually move towards expected value, it makes sense."
   ]
  },
  {
   "cell_type": "markdown",
   "metadata": {},
   "source": [
    "## Check solution with sklearn"
   ]
  },
  {
   "cell_type": "markdown",
   "metadata": {},
   "source": [
    "We are required to check if our solution is in line with the solution package Glmnet gives. But there was a os error occured while I am trying to run the glmnet, so I will check the solution with sklearn instead."
   ]
  },
  {
   "cell_type": "code",
   "execution_count": 176,
   "metadata": {},
   "outputs": [],
   "source": [
    "from sklearn import linear_model"
   ]
  },
  {
   "cell_type": "code",
   "execution_count": 177,
   "metadata": {},
   "outputs": [
    {
     "name": "stderr",
     "output_type": "stream",
     "text": [
      "/anaconda3/lib/python3.6/site-packages/ipykernel_launcher.py:6: UserWarning: With alpha=0, this algorithm does not converge well. You are advised to use the LinearRegression estimator\n",
      "  \n",
      "/anaconda3/lib/python3.6/site-packages/sklearn/linear_model/coordinate_descent.py:477: UserWarning: Coordinate descent with no regularization may lead to unexpected results and is discouraged.\n",
      "  positive)\n",
      "/anaconda3/lib/python3.6/site-packages/sklearn/linear_model/coordinate_descent.py:491: ConvergenceWarning: Objective did not converge. You might want to increase the number of iterations. Fitting data with very small alpha may cause precision problems.\n",
      "  ConvergenceWarning)\n"
     ]
    }
   ],
   "source": [
    "#fitting model in sklearn.lasso with different lambda\n",
    "beta_sk=[]\n",
    "beta0_sk=[]\n",
    "lamda_=np.linspace(0,30,40)\n",
    "for lamb in lamda_:\n",
    "    clf=linear_model.Lasso(alpha=lamb)\n",
    "    clf.fit(x,y)\n",
    "    beta_sk.append(clf.coef_)\n",
    "    beta0_sk.append(clf.intercept_)"
   ]
  },
  {
   "cell_type": "code",
   "execution_count": 178,
   "metadata": {},
   "outputs": [
    {
     "data": {
      "image/png": "[encoded data removed]",
      "text/plain": [
       "<Figure size 432x288 with 1 Axes>"
      ]
     },
     "metadata": {},
     "output_type": "display_data"
    }
   ],
   "source": [
    "#plotting the result\n",
    "plt.plot(beta0_sk,label='beta0')\n",
    "plt.plot(np.vstack(beta_sk)[:,0],label=\"x1\")\n",
    "plt.plot(np.vstack(beta_sk)[:,1],label=\"x2\")\n",
    "plt.plot(np.vstack(beta_sk)[:,2],label=\"x3\")\n",
    "plt.legend()\n",
    "plt.gca().invert_xaxis() \n",
    "plt.show()"
   ]
  },
  {
   "cell_type": "markdown",
   "metadata": {},
   "source": [
    "Apparently the plot we got in sklearn is identical with the one we have by implementing the notes, so it is a success."
   ]
  },
  {
   "cell_type": "code",
   "execution_count": null,
   "metadata": {},
   "outputs": [],
   "source": []
  }
 ],
 "metadata": {
  "kernelspec": {
   "display_name": "Python 3",
   "language": "python",
   "name": "python3"
  },
  "language_info": {
   "codemirror_mode": {
    "name": "ipython",
    "version": 3
   },
   "file_extension": ".py",
   "mimetype": "text/x-python",
   "name": "python",
   "nbconvert_exporter": "python",
   "pygments_lexer": "ipython3",
   "version": "3.6.5"
  }
 },
 "nbformat": 4,
 "nbformat_minor": 2
}
